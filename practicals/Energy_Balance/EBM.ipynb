{
 "cells": [
  {
   "cell_type": "code",
   "execution_count": 1,
   "metadata": {},
   "outputs": [
    {
     "name": "stderr",
     "output_type": "stream",
     "text": [
      "/opt/anaconda/envs/geog0111/lib/python3.6/importlib/_bootstrap.py:219: RuntimeWarning: numpy.dtype size changed, may indicate binary incompatibility. Expected 96, got 88\n",
      "  return f(*args, **kwds)\n"
     ]
    }
   ],
   "source": [
    "#Import packages\n",
    "import numpy as np\n",
    "import matplotlib.pyplot as plt\n",
    "import pandas as pd"
   ]
  },
  {
   "cell_type": "code",
   "execution_count": 2,
   "metadata": {},
   "outputs": [],
   "source": [
    "#Input quantities\n",
    "FracSC=1    #solar constant as fraction of present day \n",
    "A=204       #thermal A\n",
    "B=2.17      #thermal B\n",
    "K=3.87      #transport C\n",
    "a_ice=0.62  #ice albedo\n",
    "t_crit=-10  #critical temp\n"
   ]
  },
  {
   "cell_type": "code",
   "execution_count": 3,
   "metadata": {},
   "outputs": [],
   "source": [
    "#constant para. and names\n",
    "SC=1370 #solar constant of present day in W/m^2\n",
    "a=0.3   #albedo\n",
    "zones=['80-90','70-80','60-70','50-60','40-50','30-40','20-30','10-20','0-10'] #znoal bands\n",
    "zones_mean=np.array([85,75,65,55,45,35,25,15,6]) #mean lat. of each zonal band\n",
    "SunWt=np.array([0.5,0.531,0.624,0.77,0.892,1.021,1.12,1.189,1.219])\n",
    "cos_lat=np.cos(zones_mean*3.1415/180)\n"
   ]
  },
  {
   "cell_type": "code",
   "execution_count": 4,
   "metadata": {},
   "outputs": [],
   "source": [
    "#initial condition\n",
    "init_t=[-15,-15,-5,5,10,15,18,22,24] #initial temp\n",
    "init_a=np.zeros(len(init_t)) #create an array to store initial albedo\n",
    "for i in range(len(zones)):\n",
    "    if init_t[i]<t_crit:\n",
    "        init_a[i]=a_ice\n",
    "    else:\n",
    "        init_a[i]=a\n",
    "R_in=SC/4*FracSC*SunWt"
   ]
  },
  {
   "cell_type": "code",
   "execution_count": 5,
   "metadata": {},
   "outputs": [],
   "source": [
    "#Step 1\n",
    "Tcos=init_t*cos_lat\n",
    "mean_T=np.sum(Tcos)/np.sum(cos_lat)\n",
    "Temp=(R_in*(1-init_a)+K*mean_T-A)/(B+K)\n",
    "albedo=np.zeros(len(zones)) #create an array to store initial albedo\n",
    "for i in range(len(zones)): \n",
    "    if Temp[i]<t_crit:\n",
    "        albedo[i]=a_ice\n",
    "    else:\n",
    "        albedo[i]=a"
   ]
  },
  {
   "cell_type": "code",
   "execution_count": 6,
   "metadata": {},
   "outputs": [],
   "source": [
    "#following steps\n",
    "step_no=25 #stop number\n",
    "for i in range(step_no):\n",
    "    Tcos=Temp*cos_lat\n",
    "    mean_T=np.sum(Tcos)/np.sum(cos_lat)\n",
    "    Temp=(R_in*(1-init_a)+K*mean_T-A)/(B+K)\n",
    "    albedo=np.zeros(len(zones)) #create an array to store initial albedo\n",
    "    for i in range(len(zones)):\n",
    "        if Temp[i]<t_crit:\n",
    "            albedo[i]=a_ice\n",
    "        else:\n",
    "            albedo[i]=a"
   ]
  },
  {
   "cell_type": "code",
   "execution_count": 7,
   "metadata": {},
   "outputs": [
    {
     "data": {
      "text/html": [
       "<div>\n",
       "<style scoped>\n",
       "    .dataframe tbody tr th:only-of-type {\n",
       "        vertical-align: middle;\n",
       "    }\n",
       "\n",
       "    .dataframe tbody tr th {\n",
       "        vertical-align: top;\n",
       "    }\n",
       "\n",
       "    .dataframe thead th {\n",
       "        text-align: right;\n",
       "    }\n",
       "</style>\n",
       "<table border=\"1\" class=\"dataframe\">\n",
       "  <thead>\n",
       "    <tr style=\"text-align: right;\">\n",
       "      <th></th>\n",
       "      <th>zones</th>\n",
       "      <th>Albedo</th>\n",
       "      <th>Temp</th>\n",
       "    </tr>\n",
       "  </thead>\n",
       "  <tbody>\n",
       "    <tr>\n",
       "      <th>0</th>\n",
       "      <td>80-90</td>\n",
       "      <td>0.62</td>\n",
       "      <td>-13.539402</td>\n",
       "    </tr>\n",
       "    <tr>\n",
       "      <th>1</th>\n",
       "      <td>70-80</td>\n",
       "      <td>0.62</td>\n",
       "      <td>-12.871413</td>\n",
       "    </tr>\n",
       "    <tr>\n",
       "      <th>2</th>\n",
       "      <td>60-70</td>\n",
       "      <td>0.30</td>\n",
       "      <td>0.455466</td>\n",
       "    </tr>\n",
       "    <tr>\n",
       "      <th>3</th>\n",
       "      <td>50-60</td>\n",
       "      <td>0.30</td>\n",
       "      <td>6.250747</td>\n",
       "    </tr>\n",
       "    <tr>\n",
       "      <th>4</th>\n",
       "      <td>40-50</td>\n",
       "      <td>0.30</td>\n",
       "      <td>11.093380</td>\n",
       "    </tr>\n",
       "    <tr>\n",
       "      <th>5</th>\n",
       "      <td>30-40</td>\n",
       "      <td>0.30</td>\n",
       "      <td>16.213868</td>\n",
       "    </tr>\n",
       "    <tr>\n",
       "      <th>6</th>\n",
       "      <td>20-30</td>\n",
       "      <td>0.30</td>\n",
       "      <td>20.143545</td>\n",
       "    </tr>\n",
       "    <tr>\n",
       "      <th>7</th>\n",
       "      <td>10-20</td>\n",
       "      <td>0.30</td>\n",
       "      <td>22.882411</td>\n",
       "    </tr>\n",
       "    <tr>\n",
       "      <th>8</th>\n",
       "      <td>0-10</td>\n",
       "      <td>0.30</td>\n",
       "      <td>24.073222</td>\n",
       "    </tr>\n",
       "  </tbody>\n",
       "</table>\n",
       "</div>"
      ],
      "text/plain": [
       "   zones  Albedo       Temp\n",
       "0  80-90    0.62 -13.539402\n",
       "1  70-80    0.62 -12.871413\n",
       "2  60-70    0.30   0.455466\n",
       "3  50-60    0.30   6.250747\n",
       "4  40-50    0.30  11.093380\n",
       "5  30-40    0.30  16.213868\n",
       "6  20-30    0.30  20.143545\n",
       "7  10-20    0.30  22.882411\n",
       "8   0-10    0.30  24.073222"
      ]
     },
     "execution_count": 7,
     "metadata": {},
     "output_type": "execute_result"
    }
   ],
   "source": [
    "pd.DataFrame({'zones':zones,'Albedo':albedo,'Temp':Temp})"
   ]
  },
  {
   "cell_type": "code",
   "execution_count": 8,
   "metadata": {},
   "outputs": [
    {
     "data": {
      "image/png": "[encoded data removed]",
      "text/plain": [
       "<Figure size 432x288 with 2 Axes>"
      ]
     },
     "metadata": {
      "needs_background": "light"
     },
     "output_type": "display_data"
    }
   ],
   "source": [
    "#plotting\n",
    "fig, ax1 = plt.subplots()\n",
    "\n",
    "ax1.set_xlabel('lat. zones')\n",
    "ax1.set_ylabel('temperature',color='r')\n",
    "ax1.plot(zones, Temp,'r' )\n",
    "ax1.tick_params(axis='y')\n",
    "\n",
    "ax2 = ax1.twinx()  # instantiate a second axes that shares the same x-axis\n",
    "\n",
    "\n",
    "ax2.set_ylabel('albedo',color='b')  \n",
    "ax2.plot(zones, albedo,'b')\n",
    "ax2.tick_params(axis='y')\n",
    "\n",
    "\n",
    "fig.tight_layout()  \n",
    "\n",
    "plt.show()"
   ]
  },
  {
   "cell_type": "code",
   "execution_count": 9,
   "metadata": {},
   "outputs": [],
   "source": [
    "import xarray"
   ]
  },
  {
   "cell_type": "code",
   "execution_count": null,
   "metadata": {},
   "outputs": [],
   "source": []
  }
 ],
 "metadata": {
  "kernelspec": {
   "display_name": "Python 3",
   "language": "python",
   "name": "python3"
  },
  "language_info": {
   "codemirror_mode": {
    "name": "ipython",
    "version": 3
   },
   "file_extension": ".py",
   "mimetype": "text/x-python",
   "name": "python",
   "nbconvert_exporter": "python",
   "pygments_lexer": "ipython3",
   "version": "3.6.6"
  }
 },
 "nbformat": 4,
 "nbformat_minor": 2
}
